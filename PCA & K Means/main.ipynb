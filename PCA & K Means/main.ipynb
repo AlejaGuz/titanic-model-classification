{
 "cells": [
  {
   "cell_type": "markdown",
   "metadata": {},
   "source": [
    "# Análisis de Componentes Principales"
   ]
  },
  {
   "cell_type": "code",
   "execution_count": 1,
   "metadata": {},
   "outputs": [],
   "source": [
    "#Lectura de las librerías\n",
    "\n",
    "import matplotlib.pyplot as plt\n",
    "import seaborn as sns\n",
    "import numpy as np\n",
    "import pandas as pd\n",
    "import math\n",
    "from sklearn.decomposition import PCA\n",
    "from sklearn.preprocessing import StandardScaler"
   ]
  },
  {
   "cell_type": "code",
   "execution_count": 3,
   "metadata": {},
   "outputs": [
    {
     "name": "stdout",
     "output_type": "stream",
     "text": [
      "(891, 10)\n"
     ]
    },
    {
     "data": {
      "text/html": [
       "<div>\n",
       "<style scoped>\n",
       "    .dataframe tbody tr th:only-of-type {\n",
       "        vertical-align: middle;\n",
       "    }\n",
       "\n",
       "    .dataframe tbody tr th {\n",
       "        vertical-align: top;\n",
       "    }\n",
       "\n",
       "    .dataframe thead th {\n",
       "        text-align: right;\n",
       "    }\n",
       "</style>\n",
       "<table border=\"1\" class=\"dataframe\">\n",
       "  <thead>\n",
       "    <tr style=\"text-align: right;\">\n",
       "      <th></th>\n",
       "      <th>Survived</th>\n",
       "      <th>Age</th>\n",
       "      <th>SibSp</th>\n",
       "      <th>Parch</th>\n",
       "      <th>Fare</th>\n",
       "      <th>Sex_male</th>\n",
       "      <th>Embarked_Q</th>\n",
       "      <th>Embarked_S</th>\n",
       "      <th>Pclass_2</th>\n",
       "      <th>Pclass_3</th>\n",
       "    </tr>\n",
       "  </thead>\n",
       "  <tbody>\n",
       "    <tr>\n",
       "      <th>0</th>\n",
       "      <td>0</td>\n",
       "      <td>22.0</td>\n",
       "      <td>1</td>\n",
       "      <td>0</td>\n",
       "      <td>7.2500</td>\n",
       "      <td>1</td>\n",
       "      <td>0</td>\n",
       "      <td>1</td>\n",
       "      <td>0</td>\n",
       "      <td>1</td>\n",
       "    </tr>\n",
       "    <tr>\n",
       "      <th>1</th>\n",
       "      <td>1</td>\n",
       "      <td>38.0</td>\n",
       "      <td>1</td>\n",
       "      <td>0</td>\n",
       "      <td>71.2833</td>\n",
       "      <td>0</td>\n",
       "      <td>0</td>\n",
       "      <td>0</td>\n",
       "      <td>0</td>\n",
       "      <td>0</td>\n",
       "    </tr>\n",
       "    <tr>\n",
       "      <th>2</th>\n",
       "      <td>1</td>\n",
       "      <td>26.0</td>\n",
       "      <td>0</td>\n",
       "      <td>0</td>\n",
       "      <td>7.9250</td>\n",
       "      <td>0</td>\n",
       "      <td>0</td>\n",
       "      <td>1</td>\n",
       "      <td>0</td>\n",
       "      <td>1</td>\n",
       "    </tr>\n",
       "    <tr>\n",
       "      <th>3</th>\n",
       "      <td>1</td>\n",
       "      <td>35.0</td>\n",
       "      <td>1</td>\n",
       "      <td>0</td>\n",
       "      <td>53.1000</td>\n",
       "      <td>0</td>\n",
       "      <td>0</td>\n",
       "      <td>1</td>\n",
       "      <td>0</td>\n",
       "      <td>0</td>\n",
       "    </tr>\n",
       "    <tr>\n",
       "      <th>4</th>\n",
       "      <td>0</td>\n",
       "      <td>35.0</td>\n",
       "      <td>0</td>\n",
       "      <td>0</td>\n",
       "      <td>8.0500</td>\n",
       "      <td>1</td>\n",
       "      <td>0</td>\n",
       "      <td>1</td>\n",
       "      <td>0</td>\n",
       "      <td>1</td>\n",
       "    </tr>\n",
       "  </tbody>\n",
       "</table>\n",
       "</div>"
      ],
      "text/plain": [
       "   Survived   Age  SibSp  Parch     Fare  Sex_male  Embarked_Q  Embarked_S  \\\n",
       "0         0  22.0      1      0   7.2500         1           0           1   \n",
       "1         1  38.0      1      0  71.2833         0           0           0   \n",
       "2         1  26.0      0      0   7.9250         0           0           1   \n",
       "3         1  35.0      1      0  53.1000         0           0           1   \n",
       "4         0  35.0      0      0   8.0500         1           0           1   \n",
       "\n",
       "   Pclass_2  Pclass_3  \n",
       "0         0         1  \n",
       "1         0         0  \n",
       "2         0         1  \n",
       "3         0         0  \n",
       "4         0         1  "
      ]
     },
     "execution_count": 3,
     "metadata": {},
     "output_type": "execute_result"
    }
   ],
   "source": [
    "#Carga de la información\n",
    "\n",
    "df_train_PCA = pd.read_csv('train_clean.csv', na_values=\".\", sep=\",\")\n",
    "print(df_train_PCA.shape)\n",
    "df_train_PCA.head(5)"
   ]
  },
  {
   "cell_type": "code",
   "execution_count": 4,
   "metadata": {},
   "outputs": [
    {
     "name": "stdout",
     "output_type": "stream",
     "text": [
      "<class 'pandas.core.frame.DataFrame'>\n",
      "RangeIndex: 891 entries, 0 to 890\n",
      "Data columns (total 10 columns):\n",
      " #   Column      Non-Null Count  Dtype  \n",
      "---  ------      --------------  -----  \n",
      " 0   Survived    891 non-null    int64  \n",
      " 1   Age         891 non-null    float64\n",
      " 2   SibSp       891 non-null    int64  \n",
      " 3   Parch       891 non-null    int64  \n",
      " 4   Fare        891 non-null    float64\n",
      " 5   Sex_male    891 non-null    int64  \n",
      " 6   Embarked_Q  891 non-null    int64  \n",
      " 7   Embarked_S  891 non-null    int64  \n",
      " 8   Pclass_2    891 non-null    int64  \n",
      " 9   Pclass_3    891 non-null    int64  \n",
      "dtypes: float64(2), int64(8)\n",
      "memory usage: 69.7 KB\n"
     ]
    }
   ],
   "source": [
    "df_train_PCA.info()"
   ]
  },
  {
   "cell_type": "markdown",
   "metadata": {},
   "source": [
    "Teniendo en cuenta la información con la que se estimará el modelo, el siguente paso es **normalizar** los datos asociados a las variables explicativas. Es importante mencionar que el Análisis de Componentes Principales es un algoritmo que se enfoca en el cálculo de distancias entre puntos, por tanto es sensible a las diferentes escalas en las que se puedan encontrar las variables. Para esta oportunidad, se llevará a cabo el proceso para las variables Age y Fare, no es necesario normalizar las variables que ya previamente se les ha realizado alguna transformación para convertirlas en variables Dummie.  "
   ]
  },
  {
   "cell_type": "code",
   "execution_count": null,
   "metadata": {},
   "outputs": [],
   "source": [
    "# Se divide el dataset entre la variable objetivo y las características explicativas\n",
    "\n",
    "X = df_train_PCA.drop(columns='Survived')\n",
    "y = df_train_PCA['Survived']\n",
    "\n",
    "#Identificamos las variables numéricas para proceder con la normalización\n",
    "\n",
    "numeric_columns = ['Age', 'Fare']\n",
    "\n",
    "#Normalización de las columnas numéricas\n",
    "\n",
    "scaler = StandardScaler()\n",
    "X[numeric_columns] = scaler.fit_transform(X[numeric_columns])\n",
    "\n",
    "# Construcción del dataset con las características normalizadas \n",
    "\n",
    "df_train_PCA_Norm = pd.DataFrame(X, columns=X.columns)\n",
    "\n",
    "print(df_train_PCA_Norm)"
   ]
  },
  {
   "cell_type": "code",
   "execution_count": 6,
   "metadata": {},
   "outputs": [
    {
     "data": {
      "text/html": [
       "<div>\n",
       "<style scoped>\n",
       "    .dataframe tbody tr th:only-of-type {\n",
       "        vertical-align: middle;\n",
       "    }\n",
       "\n",
       "    .dataframe tbody tr th {\n",
       "        vertical-align: top;\n",
       "    }\n",
       "\n",
       "    .dataframe thead th {\n",
       "        text-align: right;\n",
       "    }\n",
       "</style>\n",
       "<table border=\"1\" class=\"dataframe\">\n",
       "  <thead>\n",
       "    <tr style=\"text-align: right;\">\n",
       "      <th></th>\n",
       "      <th>Age</th>\n",
       "      <th>SibSp</th>\n",
       "      <th>Parch</th>\n",
       "      <th>Fare</th>\n",
       "      <th>Sex_male</th>\n",
       "      <th>Embarked_Q</th>\n",
       "      <th>Embarked_S</th>\n",
       "      <th>Pclass_2</th>\n",
       "      <th>Pclass_3</th>\n",
       "    </tr>\n",
       "  </thead>\n",
       "  <tbody>\n",
       "    <tr>\n",
       "      <th>0</th>\n",
       "      <td>-0.565736</td>\n",
       "      <td>1</td>\n",
       "      <td>0</td>\n",
       "      <td>-0.502445</td>\n",
       "      <td>1</td>\n",
       "      <td>0</td>\n",
       "      <td>1</td>\n",
       "      <td>0</td>\n",
       "      <td>1</td>\n",
       "    </tr>\n",
       "    <tr>\n",
       "      <th>1</th>\n",
       "      <td>0.663861</td>\n",
       "      <td>1</td>\n",
       "      <td>0</td>\n",
       "      <td>0.786845</td>\n",
       "      <td>0</td>\n",
       "      <td>0</td>\n",
       "      <td>0</td>\n",
       "      <td>0</td>\n",
       "      <td>0</td>\n",
       "    </tr>\n",
       "    <tr>\n",
       "      <th>2</th>\n",
       "      <td>-0.258337</td>\n",
       "      <td>0</td>\n",
       "      <td>0</td>\n",
       "      <td>-0.488854</td>\n",
       "      <td>0</td>\n",
       "      <td>0</td>\n",
       "      <td>1</td>\n",
       "      <td>0</td>\n",
       "      <td>1</td>\n",
       "    </tr>\n",
       "    <tr>\n",
       "      <th>3</th>\n",
       "      <td>0.433312</td>\n",
       "      <td>1</td>\n",
       "      <td>0</td>\n",
       "      <td>0.420730</td>\n",
       "      <td>0</td>\n",
       "      <td>0</td>\n",
       "      <td>1</td>\n",
       "      <td>0</td>\n",
       "      <td>0</td>\n",
       "    </tr>\n",
       "    <tr>\n",
       "      <th>4</th>\n",
       "      <td>0.433312</td>\n",
       "      <td>0</td>\n",
       "      <td>0</td>\n",
       "      <td>-0.486337</td>\n",
       "      <td>1</td>\n",
       "      <td>0</td>\n",
       "      <td>1</td>\n",
       "      <td>0</td>\n",
       "      <td>1</td>\n",
       "    </tr>\n",
       "  </tbody>\n",
       "</table>\n",
       "</div>"
      ],
      "text/plain": [
       "        Age  SibSp  Parch      Fare  Sex_male  Embarked_Q  Embarked_S  \\\n",
       "0 -0.565736      1      0 -0.502445         1           0           1   \n",
       "1  0.663861      1      0  0.786845         0           0           0   \n",
       "2 -0.258337      0      0 -0.488854         0           0           1   \n",
       "3  0.433312      1      0  0.420730         0           0           1   \n",
       "4  0.433312      0      0 -0.486337         1           0           1   \n",
       "\n",
       "   Pclass_2  Pclass_3  \n",
       "0         0         1  \n",
       "1         0         0  \n",
       "2         0         1  \n",
       "3         0         0  \n",
       "4         0         1  "
      ]
     },
     "execution_count": 6,
     "metadata": {},
     "output_type": "execute_result"
    }
   ],
   "source": [
    "df_train_PCA_Norm.head(5)"
   ]
  },
  {
   "cell_type": "markdown",
   "metadata": {},
   "source": [
    "Teniendo la información estandarizada, se procederá a ajustar el Análisis de Componentes Principales. En el primer paso, se crea una instancia del mismo para poder identificar tantos componentes principales como número de variables explicativas tenemos en nuestro Dataset. "
   ]
  },
  {
   "cell_type": "code",
   "execution_count": 7,
   "metadata": {},
   "outputs": [],
   "source": [
    "#Ajuste del modelo PCA\n",
    "\n",
    "pca = PCA()\n",
    "\n",
    "'''En esta línea ajustamos el modelo a los datos estandarizados, además, se\n",
    "proyectan los datos originales en el espacio de los componentes''' \n",
    "\n",
    "df_proyected = pca.fit_transform(df_train_PCA_Norm)"
   ]
  },
  {
   "cell_type": "code",
   "execution_count": 9,
   "metadata": {},
   "outputs": [],
   "source": [
    "#df_pca = pd.DataFrame(data=df_proyected, columns=[f'PC{i+1}' for i in range(df_proyected.shape[1])])"
   ]
  },
  {
   "cell_type": "markdown",
   "metadata": {},
   "source": [
    "Una vez ajustado el modelo de Componentes Principales, procedemos a identificar los pesos que cada una de las variables explicativas aporta a los componentes principales estimados."
   ]
  },
  {
   "cell_type": "code",
   "execution_count": 11,
   "metadata": {},
   "outputs": [],
   "source": [
    "loadings = pca.components_\n",
    "\n",
    "#Para una mejor visualización, creamos un dataframe para revisar los pesos\n",
    "\n",
    "df_loadings = pd.DataFrame(loadings.T, columns=[f'PC{i+1}' for i in range(loadings.shape[0])], index=X.columns)"
   ]
  },
  {
   "cell_type": "code",
   "execution_count": 12,
   "metadata": {},
   "outputs": [
    {
     "data": {
      "text/html": [
       "<div>\n",
       "<style scoped>\n",
       "    .dataframe tbody tr th:only-of-type {\n",
       "        vertical-align: middle;\n",
       "    }\n",
       "\n",
       "    .dataframe tbody tr th {\n",
       "        vertical-align: top;\n",
       "    }\n",
       "\n",
       "    .dataframe thead th {\n",
       "        text-align: right;\n",
       "    }\n",
       "</style>\n",
       "<table border=\"1\" class=\"dataframe\">\n",
       "  <thead>\n",
       "    <tr style=\"text-align: right;\">\n",
       "      <th></th>\n",
       "      <th>PC1</th>\n",
       "      <th>PC2</th>\n",
       "      <th>PC3</th>\n",
       "      <th>PC4</th>\n",
       "      <th>PC5</th>\n",
       "      <th>PC6</th>\n",
       "      <th>PC7</th>\n",
       "      <th>PC8</th>\n",
       "      <th>PC9</th>\n",
       "    </tr>\n",
       "  </thead>\n",
       "  <tbody>\n",
       "    <tr>\n",
       "      <th>Age</th>\n",
       "      <td>-0.384482</td>\n",
       "      <td>0.589454</td>\n",
       "      <td>-0.688359</td>\n",
       "      <td>0.095519</td>\n",
       "      <td>0.121395</td>\n",
       "      <td>0.028471</td>\n",
       "      <td>-0.037557</td>\n",
       "      <td>0.046646</td>\n",
       "      <td>0.051197</td>\n",
       "    </tr>\n",
       "    <tr>\n",
       "      <th>SibSp</th>\n",
       "      <td>0.771284</td>\n",
       "      <td>-0.023496</td>\n",
       "      <td>-0.512362</td>\n",
       "      <td>-0.365554</td>\n",
       "      <td>-0.061488</td>\n",
       "      <td>0.061530</td>\n",
       "      <td>0.021967</td>\n",
       "      <td>-0.019333</td>\n",
       "      <td>0.001213</td>\n",
       "    </tr>\n",
       "    <tr>\n",
       "      <th>Parch</th>\n",
       "      <td>0.410259</td>\n",
       "      <td>0.084183</td>\n",
       "      <td>-0.031884</td>\n",
       "      <td>0.879920</td>\n",
       "      <td>0.110775</td>\n",
       "      <td>-0.100455</td>\n",
       "      <td>0.160255</td>\n",
       "      <td>-0.019738</td>\n",
       "      <td>-0.029863</td>\n",
       "    </tr>\n",
       "    <tr>\n",
       "      <th>Fare</th>\n",
       "      <td>0.281731</td>\n",
       "      <td>0.753563</td>\n",
       "      <td>0.491872</td>\n",
       "      <td>-0.197996</td>\n",
       "      <td>0.097681</td>\n",
       "      <td>-0.152600</td>\n",
       "      <td>-0.060126</td>\n",
       "      <td>0.171986</td>\n",
       "      <td>0.074879</td>\n",
       "    </tr>\n",
       "    <tr>\n",
       "      <th>Sex_male</th>\n",
       "      <td>-0.088912</td>\n",
       "      <td>-0.062217</td>\n",
       "      <td>-0.080137</td>\n",
       "      <td>-0.167489</td>\n",
       "      <td>0.078568</td>\n",
       "      <td>-0.721145</td>\n",
       "      <td>0.652762</td>\n",
       "      <td>0.013681</td>\n",
       "      <td>-0.035226</td>\n",
       "    </tr>\n",
       "    <tr>\n",
       "      <th>Embarked_Q</th>\n",
       "      <td>-0.011801</td>\n",
       "      <td>-0.032809</td>\n",
       "      <td>0.000439</td>\n",
       "      <td>-0.033260</td>\n",
       "      <td>0.198921</td>\n",
       "      <td>0.271961</td>\n",
       "      <td>0.213940</td>\n",
       "      <td>0.620005</td>\n",
       "      <td>-0.673772</td>\n",
       "    </tr>\n",
       "    <tr>\n",
       "      <th>Embarked_S</th>\n",
       "      <td>0.009422</td>\n",
       "      <td>-0.055353</td>\n",
       "      <td>-0.102944</td>\n",
       "      <td>0.082878</td>\n",
       "      <td>-0.365169</td>\n",
       "      <td>-0.571345</td>\n",
       "      <td>-0.604400</td>\n",
       "      <td>0.241097</td>\n",
       "      <td>-0.310112</td>\n",
       "    </tr>\n",
       "    <tr>\n",
       "      <th>Pclass_2</th>\n",
       "      <td>-0.025521</td>\n",
       "      <td>-0.002539</td>\n",
       "      <td>-0.020046</td>\n",
       "      <td>0.087047</td>\n",
       "      <td>-0.616402</td>\n",
       "      <td>0.131797</td>\n",
       "      <td>0.249213</td>\n",
       "      <td>0.562514</td>\n",
       "      <td>0.464233</td>\n",
       "    </tr>\n",
       "    <tr>\n",
       "      <th>Pclass_3</th>\n",
       "      <td>0.028715</td>\n",
       "      <td>-0.262737</td>\n",
       "      <td>-0.057185</td>\n",
       "      <td>-0.013444</td>\n",
       "      <td>0.632951</td>\n",
       "      <td>-0.155584</td>\n",
       "      <td>-0.263694</td>\n",
       "      <td>0.456440</td>\n",
       "      <td>0.473274</td>\n",
       "    </tr>\n",
       "  </tbody>\n",
       "</table>\n",
       "</div>"
      ],
      "text/plain": [
       "                 PC1       PC2       PC3       PC4       PC5       PC6  \\\n",
       "Age        -0.384482  0.589454 -0.688359  0.095519  0.121395  0.028471   \n",
       "SibSp       0.771284 -0.023496 -0.512362 -0.365554 -0.061488  0.061530   \n",
       "Parch       0.410259  0.084183 -0.031884  0.879920  0.110775 -0.100455   \n",
       "Fare        0.281731  0.753563  0.491872 -0.197996  0.097681 -0.152600   \n",
       "Sex_male   -0.088912 -0.062217 -0.080137 -0.167489  0.078568 -0.721145   \n",
       "Embarked_Q -0.011801 -0.032809  0.000439 -0.033260  0.198921  0.271961   \n",
       "Embarked_S  0.009422 -0.055353 -0.102944  0.082878 -0.365169 -0.571345   \n",
       "Pclass_2   -0.025521 -0.002539 -0.020046  0.087047 -0.616402  0.131797   \n",
       "Pclass_3    0.028715 -0.262737 -0.057185 -0.013444  0.632951 -0.155584   \n",
       "\n",
       "                 PC7       PC8       PC9  \n",
       "Age        -0.037557  0.046646  0.051197  \n",
       "SibSp       0.021967 -0.019333  0.001213  \n",
       "Parch       0.160255 -0.019738 -0.029863  \n",
       "Fare       -0.060126  0.171986  0.074879  \n",
       "Sex_male    0.652762  0.013681 -0.035226  \n",
       "Embarked_Q  0.213940  0.620005 -0.673772  \n",
       "Embarked_S -0.604400  0.241097 -0.310112  \n",
       "Pclass_2    0.249213  0.562514  0.464233  \n",
       "Pclass_3   -0.263694  0.456440  0.473274  "
      ]
     },
     "execution_count": 12,
     "metadata": {},
     "output_type": "execute_result"
    }
   ],
   "source": [
    "df_loadings"
   ]
  },
  {
   "cell_type": "markdown",
   "metadata": {},
   "source": [
    "**Análisis**\n",
    "\n",
    "* En el componente principal número 1, se identifica una carga importante de la variable \"SibSp\" (0.77), esto quiere decir que la cantidad de hermanos/conyugues que se encuentran en el barco está fuertemente relacionada con la varianza explicada por el primer componente.\n",
    "\n",
    "* La característica más relevante en PC2 es \"Age\", al evidenciarse una carga positiva de 0.58, es decir que, la edad está estrechamente asociada con la varianza explicada por el componente en mención. Por su parte, en el PC3 esta misma característica exhibe una asociación fuerte y negativa entre la edad y el componente mencionado.\n",
    "\n",
    "* Finalmente, se resalta que en el PC4 la carga más relevante está explicada por la variable \"Parch\" (0.88). Este resultado indica que la presencia o asuencia de padres/hijos dentro del barco puede influir en la forma en que se agrupan los pasajeros en términos de otras características presentes en el conjunto de datos."
   ]
  },
  {
   "cell_type": "markdown",
   "metadata": {},
   "source": [
    "Una vez teniendo la información asociada a las cargas con las cuales contribuye cada variable a cada componente principal, el siguiente paso es identicar el número de componentes necesarios para explicar el 80% de la variabilidad de la representación original de los datos. "
   ]
  },
  {
   "cell_type": "code",
   "execution_count": 17,
   "metadata": {},
   "outputs": [],
   "source": [
    "#Identificamos la varianza explicada por cada componente\n",
    "\n",
    "explain_variance = pca.explained_variance_ratio_"
   ]
  },
  {
   "cell_type": "code",
   "execution_count": 18,
   "metadata": {},
   "outputs": [],
   "source": [
    "# Se lleva a cabo el calculo de la varianza explicada acumulada\n",
    "\n",
    "explain_variance_cumm = np.cumsum(explain_variance)"
   ]
  },
  {
   "cell_type": "markdown",
   "metadata": {},
   "source": [
    "A continuación, se identificará el número de componentes necesarios para conservar el 80% de la variabilidad: "
   ]
  },
  {
   "cell_type": "code",
   "execution_count": 19,
   "metadata": {},
   "outputs": [
    {
     "name": "stdout",
     "output_type": "stream",
     "text": [
      "El número de componentes necesarios para conservar al menos el 80% de la variabilidad original son:  4\n"
     ]
    }
   ],
   "source": [
    "pca_necesarios = np.argmax(explain_variance_cumm >= 0.8) + 1 \n",
    "\n",
    "print(\"El número de componentes necesarios para conservar al menos el 80% de la variabilidad original son: \", pca_necesarios)"
   ]
  },
  {
   "cell_type": "code",
   "execution_count": 23,
   "metadata": {},
   "outputs": [
    {
     "data": {
      "image/png": "[encoded data removed]",
      "text/plain": [
       "<Figure size 1500x700 with 1 Axes>"
      ]
     },
     "metadata": {},
     "output_type": "display_data"
    }
   ],
   "source": [
    "plt.figure(figsize=(15, 7))\n",
    "plt.bar(range(len(explain_variance)), explain_variance, alpha=0.3333, align='center', label='Varianza explicada por cada PC', color = 'r')\n",
    "plt.step(range(len(explain_variance_cumm)), explain_variance_cumm, where='mid',label='Varianza explicada acumulada')\n",
    "plt.ylabel('Porcentaje de varianza explicada')\n",
    "plt.xlabel('Componentes principales')\n",
    "plt.legend(loc='best')\n",
    "plt.show()"
   ]
  },
  {
   "cell_type": "markdown",
   "metadata": {},
   "source": [
    "**Análisis** \n",
    "\n",
    "PENDIENTE - Qué puedo decir acerca de la elección de los 4 primeros componentes respecto a la elección de variables?"
   ]
  },
  {
   "cell_type": "markdown",
   "metadata": {},
   "source": [
    "A continuación, se procederá a gráficar los puntos en el nuevo sistema de represetnación a partir de los componentes principales que se encontraron en los pasos anteriores. A través de la siguiente función, se graficarán los puntos de los datos y las cargas de las variables explicativas originales. "
   ]
  },
  {
   "cell_type": "code",
   "execution_count": 33,
   "metadata": {},
   "outputs": [],
   "source": [
    "import matplotlib.pyplot as plt\n",
    "\n",
    "def biplot(data, loadings, index1, index2, labels=None):\n",
    "    plt.figure(figsize=(15, 7))\n",
    "    xs = data[:, index1]\n",
    "    ys = data[:, index2]\n",
    "    n = loadings.shape[0]\n",
    "    scalex = 1.0 / (xs.max() - xs.min())\n",
    "    scaley = 1.0 / (ys.max() - ys.min())\n",
    "    plt.scatter(xs * scalex, ys * scaley)\n",
    "    for i in range(n):\n",
    "        plt.arrow(0, 0, loadings[i, index1] * .8, loadings[i, index2] * .8, color='r', alpha=0.5)\n",
    "        if labels is None:\n",
    "            plt.text(loadings[i, index1] * .85, loadings[i, index2] * .85, \"Var\" + str(i + 1), color='black',\n",
    "                     ha='center', va='center')\n",
    "        else:\n",
    "            plt.text(loadings[i, index1] * .85, loadings[i, index2] * .85, labels[i], color='black', ha='center',\n",
    "                     va='center')\n",
    "    plt.xlim(-1, 1)\n",
    "    plt.ylim(-1, 1)\n",
    "    plt.xlabel(\"PC{}\".format(index1 + 1))\n",
    "    plt.ylabel(\"PC{}\".format(index2 + 1))\n",
    "    plt.grid()\n",
    "\n",
    "\n"
   ]
  },
  {
   "cell_type": "code",
   "execution_count": 34,
   "metadata": {},
   "outputs": [
    {
     "data": {
      "image/png": "[encoded data removed]",
      "text/plain": [
       "<Figure size 1500x700 with 1 Axes>"
      ]
     },
     "metadata": {},
     "output_type": "display_data"
    }
   ],
   "source": [
    "# Llamar a la función biplot sin etiquetas de puntos\n",
    "biplot(df_proyected, pca.components_, 0, 1, df_train_PCA_Norm.columns)"
   ]
  },
  {
   "cell_type": "markdown",
   "metadata": {},
   "source": [
    "**Análisis**\n",
    "\n",
    "PENDIENTE"
   ]
  }
 ],
 "metadata": {
  "kernelspec": {
   "display_name": "base",
   "language": "python",
   "name": "python3"
  },
  "language_info": {
   "codemirror_mode": {
    "name": "ipython",
    "version": 3
   },
   "file_extension": ".py",
   "mimetype": "text/x-python",
   "name": "python",
   "nbconvert_exporter": "python",
   "pygments_lexer": "ipython3",
   "version": "3.11.5"
  }
 },
 "nbformat": 4,
 "nbformat_minor": 2
}
